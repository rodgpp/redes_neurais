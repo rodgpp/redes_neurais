{
 "cells": [
  {
   "cell_type": "code",
   "execution_count": 29,
   "metadata": {},
   "outputs": [],
   "source": [
    "import pandas as pd\n",
    "import matplotlib.pyplot as plt\n",
    "import numpy as np\n",
    "import re\n",
    "from collections import Counter\n",
    "from nltk.stem import SnowballStemmer"
   ]
  },
  {
   "cell_type": "code",
   "execution_count": 30,
   "metadata": {},
   "outputs": [],
   "source": [
    "dir = 'C:/Users/Rodrigo/dados/'\n",
    "stemmer = SnowballStemmer(\"english\")"
   ]
  },
  {
   "cell_type": "code",
   "execution_count": null,
   "metadata": {},
   "outputs": [],
   "source": [
    "consolidated = pd.read_csv(dir+'consolidated.txt',delimiter=';',names=['id','approved','group','stem','number'])\n",
    "consolidated_text = pd.read_csv(dir+'consolidated_text.txt',delimiter=';',names=['id','approved','group','stem'])"
   ]
  },
  {
   "cell_type": "code",
   "execution_count": 4,
   "metadata": {},
   "outputs": [
    {
     "data": {
      "text/html": [
       "<div>\n",
       "<style scoped>\n",
       "    .dataframe tbody tr th:only-of-type {\n",
       "        vertical-align: middle;\n",
       "    }\n",
       "\n",
       "    .dataframe tbody tr th {\n",
       "        vertical-align: top;\n",
       "    }\n",
       "\n",
       "    .dataframe thead th {\n",
       "        text-align: right;\n",
       "    }\n",
       "</style>\n",
       "<table border=\"1\" class=\"dataframe\">\n",
       "  <thead>\n",
       "    <tr style=\"text-align: right;\">\n",
       "      <th></th>\n",
       "      <th>id</th>\n",
       "      <th>approved</th>\n",
       "      <th>group</th>\n",
       "      <th>stem</th>\n",
       "      <th>number</th>\n",
       "    </tr>\n",
       "  </thead>\n",
       "  <tbody>\n",
       "    <tr>\n",
       "      <th>24046600</th>\n",
       "      <td>p190772</td>\n",
       "      <td>1</td>\n",
       "      <td>Literacy_Language</td>\n",
       "      <td>it</td>\n",
       "      <td>1</td>\n",
       "    </tr>\n",
       "    <tr>\n",
       "      <th>24046601</th>\n",
       "      <td>p190772</td>\n",
       "      <td>1</td>\n",
       "      <td>Literacy_Language</td>\n",
       "      <td>hope</td>\n",
       "      <td>1</td>\n",
       "    </tr>\n",
       "    <tr>\n",
       "      <th>24046602</th>\n",
       "      <td>p190772</td>\n",
       "      <td>1</td>\n",
       "      <td>Literacy_Language</td>\n",
       "      <td>also</td>\n",
       "      <td>1</td>\n",
       "    </tr>\n",
       "    <tr>\n",
       "      <th>24046603</th>\n",
       "      <td>p190772</td>\n",
       "      <td>1</td>\n",
       "      <td>Literacy_Language</td>\n",
       "      <td>lifetim</td>\n",
       "      <td>1</td>\n",
       "    </tr>\n",
       "    <tr>\n",
       "      <th>24046604</th>\n",
       "      <td>p190772</td>\n",
       "      <td>1</td>\n",
       "      <td>Literacy_Language</td>\n",
       "      <td>learner</td>\n",
       "      <td>1</td>\n",
       "    </tr>\n",
       "  </tbody>\n",
       "</table>\n",
       "</div>"
      ],
      "text/plain": [
       "               id  approved              group     stem  number\n",
       "24046600  p190772         1  Literacy_Language       it       1\n",
       "24046601  p190772         1  Literacy_Language     hope       1\n",
       "24046602  p190772         1  Literacy_Language     also       1\n",
       "24046603  p190772         1  Literacy_Language  lifetim       1\n",
       "24046604  p190772         1  Literacy_Language  learner       1"
      ]
     },
     "execution_count": 4,
     "metadata": {},
     "output_type": "execute_result"
    }
   ],
   "source": [
    "consolidated.tail()"
   ]
  },
  {
   "cell_type": "code",
   "execution_count": 5,
   "metadata": {},
   "outputs": [
    {
     "data": {
      "text/html": [
       "<div>\n",
       "<style scoped>\n",
       "    .dataframe tbody tr th:only-of-type {\n",
       "        vertical-align: middle;\n",
       "    }\n",
       "\n",
       "    .dataframe tbody tr th {\n",
       "        vertical-align: top;\n",
       "    }\n",
       "\n",
       "    .dataframe thead th {\n",
       "        text-align: right;\n",
       "    }\n",
       "</style>\n",
       "<table border=\"1\" class=\"dataframe\">\n",
       "  <thead>\n",
       "    <tr style=\"text-align: right;\">\n",
       "      <th></th>\n",
       "      <th>id</th>\n",
       "      <th>approved</th>\n",
       "      <th>group</th>\n",
       "      <th>stem</th>\n",
       "    </tr>\n",
       "  </thead>\n",
       "  <tbody>\n",
       "    <tr>\n",
       "      <th>182075</th>\n",
       "      <td>p014188</td>\n",
       "      <td>1</td>\n",
       "      <td>Math_Science</td>\n",
       "      <td>i current teach math in a lowincom school wher...</td>\n",
       "    </tr>\n",
       "    <tr>\n",
       "      <th>182076</th>\n",
       "      <td>p116452</td>\n",
       "      <td>1</td>\n",
       "      <td>Music_The_Arts</td>\n",
       "      <td>my student are predomin hispan and often have ...</td>\n",
       "    </tr>\n",
       "    <tr>\n",
       "      <th>182077</th>\n",
       "      <td>p074761</td>\n",
       "      <td>0</td>\n",
       "      <td>Math_Science</td>\n",
       "      <td>i teach scienc to eighth grader at a suburban ...</td>\n",
       "    </tr>\n",
       "    <tr>\n",
       "      <th>182078</th>\n",
       "      <td>p136737</td>\n",
       "      <td>1</td>\n",
       "      <td>Literacy_Language</td>\n",
       "      <td>i work with a group of wonder second grade stu...</td>\n",
       "    </tr>\n",
       "    <tr>\n",
       "      <th>182079</th>\n",
       "      <td>p190772</td>\n",
       "      <td>1</td>\n",
       "      <td>Literacy_Language</td>\n",
       "      <td>balanc literaci was a mysteri to me until a co...</td>\n",
       "    </tr>\n",
       "  </tbody>\n",
       "</table>\n",
       "</div>"
      ],
      "text/plain": [
       "             id  approved              group  \\\n",
       "182075  p014188         1       Math_Science   \n",
       "182076  p116452         1     Music_The_Arts   \n",
       "182077  p074761         0       Math_Science   \n",
       "182078  p136737         1  Literacy_Language   \n",
       "182079  p190772         1  Literacy_Language   \n",
       "\n",
       "                                                     stem  \n",
       "182075  i current teach math in a lowincom school wher...  \n",
       "182076  my student are predomin hispan and often have ...  \n",
       "182077  i teach scienc to eighth grader at a suburban ...  \n",
       "182078  i work with a group of wonder second grade stu...  \n",
       "182079  balanc literaci was a mysteri to me until a co...  "
      ]
     },
     "execution_count": 5,
     "metadata": {},
     "output_type": "execute_result"
    }
   ],
   "source": [
    "consolidated_text.tail()"
   ]
  },
  {
   "cell_type": "code",
   "execution_count": 7,
   "metadata": {},
   "outputs": [
    {
     "ename": "TypeError",
     "evalue": "sort_values() missing 1 required positional argument: 'by'",
     "output_type": "error",
     "traceback": [
      "\u001b[1;31m---------------------------------------------------------------------------\u001b[0m",
      "\u001b[1;31mTypeError\u001b[0m                                 Traceback (most recent call last)",
      "\u001b[1;32m<ipython-input-7-5c89ae2599de>\u001b[0m in \u001b[0;36m<module>\u001b[1;34m()\u001b[0m\n\u001b[1;32m----> 1\u001b[1;33m \u001b[0mconsolidated\u001b[0m\u001b[1;33m.\u001b[0m\u001b[0mgroupby\u001b[0m\u001b[1;33m(\u001b[0m\u001b[1;34m'stem'\u001b[0m\u001b[1;33m)\u001b[0m\u001b[1;33m.\u001b[0m\u001b[0mcount\u001b[0m\u001b[1;33m(\u001b[0m\u001b[1;33m)\u001b[0m\u001b[1;33m.\u001b[0m\u001b[0msort_values\u001b[0m\u001b[1;33m(\u001b[0m\u001b[0mascending\u001b[0m \u001b[1;33m=\u001b[0m \u001b[1;32mFalse\u001b[0m\u001b[1;33m)\u001b[0m\u001b[1;33m\u001b[0m\u001b[0m\n\u001b[0m",
      "\u001b[1;31mTypeError\u001b[0m: sort_values() missing 1 required positional argument: 'by'"
     ]
    }
   ],
   "source": [
    "consolidated.groupby('stem').count().sort_values(ascending = False)"
   ]
  },
  {
   "cell_type": "code",
   "execution_count": 24,
   "metadata": {},
   "outputs": [
    {
     "data": {
      "text/plain": [
       "group               stem              \n",
       "Literacy_Language   to                    75822\n",
       "                    and                   75780\n",
       "                    the                   75602\n",
       "                    student               75444\n",
       "                    a                     75176\n",
       "                    of                    74931\n",
       "                    in                    74837\n",
       "                    are                   73254\n",
       "                    my                    71309\n",
       "                    they                  69487\n",
       "                    their                 69395\n",
       "                    have                  68845\n",
       "                    for                   68674\n",
       "                    is                    67378\n",
       "                    will                  67179\n",
       "                    with                  66996\n",
       "                    that                  65726\n",
       "                    learn                 65647\n",
       "                    be                    65200\n",
       "                    school                64232\n",
       "                    i                     63185\n",
       "                    them                  58529\n",
       "                    our                   58377\n",
       "                    classroom             56130\n",
       "                    on                    53876\n",
       "                    this                  51764\n",
       "                    as                    51502\n",
       "                    we                    50952\n",
       "                    help                  49107\n",
       "                    read                  49044\n",
       "                                          ...  \n",
       "                    exameach                  1\n",
       "                    exama                     1\n",
       "Math_Science        picturesth                1\n",
       "                    picturesthi               1\n",
       "Literacy_Language   exacto                    1\n",
       "Math_Science        picturestori              1\n",
       "                    picturesvideosvisu        1\n",
       "                    pictureshav               1\n",
       "Literacy_Language   examplesmi                1\n",
       "                    examplesstori             1\n",
       "Math_Science        pictureour                1\n",
       "                    pictor                    1\n",
       "Literacy_Language   exand                     1\n",
       "                    examto                    1\n",
       "                    examthey                  1\n",
       "Math_Science        picturedi                 1\n",
       "Literacy_Language   examth                    1\n",
       "                    examsw                    1\n",
       "                    examsthank                1\n",
       "                    examsour                  1\n",
       "Math_Science        picturesdiagram           1\n",
       "Literacy_Language   examsmani                 1\n",
       "Math_Science        picturesbrainstorm        1\n",
       "Literacy_Language   examsand                  1\n",
       "                    examplifi                 1\n",
       "                    examplewhat               1\n",
       "                    examplethrough            1\n",
       "                    examplethes               1\n",
       "                    examplesthi               1\n",
       "Warmth_Care_Hunger  zoom                      1\n",
       "Name: stem, Length: 314202, dtype: int64"
      ]
     },
     "execution_count": 24,
     "metadata": {},
     "output_type": "execute_result"
    }
   ],
   "source": [
    "consolidated.groupby(['group', 'stem'])['stem'].count().sort_values(ascending = False)"
   ]
  },
  {
   "cell_type": "code",
   "execution_count": null,
   "metadata": {},
   "outputs": [],
   "source": []
  },
  {
   "cell_type": "code",
   "execution_count": 11,
   "metadata": {},
   "outputs": [],
   "source": [
    "new_consolidated = consolidated.groupby(['group', 'stem'])['stem'].count().sort_values(ascending = False)"
   ]
  },
  {
   "cell_type": "code",
   "execution_count": 14,
   "metadata": {},
   "outputs": [
    {
     "data": {
      "text/plain": [
       "group               stem              \n",
       "Literacy_Language   to                    75822\n",
       "                    and                   75780\n",
       "                    the                   75602\n",
       "                    student               75444\n",
       "                    a                     75176\n",
       "                    of                    74931\n",
       "                    in                    74837\n",
       "                    are                   73254\n",
       "                    my                    71309\n",
       "                    they                  69487\n",
       "                    their                 69395\n",
       "                    have                  68845\n",
       "                    for                   68674\n",
       "                    is                    67378\n",
       "                    will                  67179\n",
       "                    with                  66996\n",
       "                    that                  65726\n",
       "                    learn                 65647\n",
       "                    be                    65200\n",
       "                    school                64232\n",
       "                    i                     63185\n",
       "                    them                  58529\n",
       "                    our                   58377\n",
       "                    classroom             56130\n",
       "                    on                    53876\n",
       "                    this                  51764\n",
       "                    as                    51502\n",
       "                    we                    50952\n",
       "                    help                  49107\n",
       "                    read                  49044\n",
       "                                          ...  \n",
       "                    exameach                  1\n",
       "                    exama                     1\n",
       "Math_Science        picturesth                1\n",
       "                    picturesthi               1\n",
       "Literacy_Language   exacto                    1\n",
       "Math_Science        picturestori              1\n",
       "                    picturesvideosvisu        1\n",
       "                    pictureshav               1\n",
       "Literacy_Language   examplesmi                1\n",
       "                    examplesstori             1\n",
       "Math_Science        pictureour                1\n",
       "                    pictor                    1\n",
       "Literacy_Language   exand                     1\n",
       "                    examto                    1\n",
       "                    examthey                  1\n",
       "Math_Science        picturedi                 1\n",
       "Literacy_Language   examth                    1\n",
       "                    examsw                    1\n",
       "                    examsthank                1\n",
       "                    examsour                  1\n",
       "Math_Science        picturesdiagram           1\n",
       "Literacy_Language   examsmani                 1\n",
       "Math_Science        picturesbrainstorm        1\n",
       "Literacy_Language   examsand                  1\n",
       "                    examplifi                 1\n",
       "                    examplewhat               1\n",
       "                    examplethrough            1\n",
       "                    examplethes               1\n",
       "                    examplesthi               1\n",
       "Warmth_Care_Hunger  zoom                      1\n",
       "Name: stem, Length: 314202, dtype: int64"
      ]
     },
     "execution_count": 14,
     "metadata": {},
     "output_type": "execute_result"
    }
   ],
   "source": [
    "new_consolidated"
   ]
  },
  {
   "cell_type": "code",
   "execution_count": 16,
   "metadata": {},
   "outputs": [
    {
     "ename": "NameError",
     "evalue": "name 'new_consolidated1' is not defined",
     "output_type": "error",
     "traceback": [
      "\u001b[1;31m---------------------------------------------------------------------------\u001b[0m",
      "\u001b[1;31mNameError\u001b[0m                                 Traceback (most recent call last)",
      "\u001b[1;32m<ipython-input-16-d16a331dc48f>\u001b[0m in \u001b[0;36m<module>\u001b[1;34m()\u001b[0m\n\u001b[1;32m----> 1\u001b[1;33m \u001b[0mnew_consolidated1\u001b[0m\u001b[1;33m.\u001b[0m\u001b[0mdrop\u001b[0m\u001b[1;33m\u001b[0m\u001b[0m\n\u001b[0m",
      "\u001b[1;31mNameError\u001b[0m: name 'new_consolidated1' is not defined"
     ]
    }
   ],
   "source": [
    "new_consolidated1.drop"
   ]
  },
  {
   "cell_type": "code",
   "execution_count": 26,
   "metadata": {},
   "outputs": [
    {
     "data": {
      "text/plain": [
       "['Literacy_Language',\n",
       " 'Music_The_Arts',\n",
       " 'Math_Science',\n",
       " 'Health_Sports',\n",
       " 'Applied_Learning',\n",
       " 'Special_Needs',\n",
       " 'History_Civics',\n",
       " 'Warmth_Care_Hunger']"
      ]
     },
     "execution_count": 26,
     "metadata": {},
     "output_type": "execute_result"
    }
   ],
   "source": [
    "groups = []\n",
    "for x in consolidated.groupby('group')['group'].head(1):\n",
    "    if x not in groups: groups.append(x)\n",
    "groups"
   ]
  },
  {
   "cell_type": "code",
   "execution_count": 28,
   "metadata": {},
   "outputs": [
    {
     "name": "stdout",
     "output_type": "stream",
     "text": [
      "Literacy_Language\n",
      "Music_The_Arts\n",
      "Math_Science\n",
      "Health_Sports\n",
      "Applied_Learning\n",
      "Special_Needs\n",
      "History_Civics\n",
      "Warmth_Care_Hunger\n"
     ]
    }
   ],
   "source": [
    "for group  in groups:\n",
    "    print(group)\n",
    "    rod1 = consolidated[consolidated.group == group]\n",
    "    rod2 = consolidated_text[consolidated_text.group == group]\n",
    "    rod1.to_csv(dir+'palavra_'+group+'.csv')\n",
    "    rod2.to_csv(dir+'texto_'+group+'.csv')"
   ]
  },
  {
   "cell_type": "code",
   "execution_count": 21,
   "metadata": {},
   "outputs": [],
   "source": []
  },
  {
   "cell_type": "code",
   "execution_count": 23,
   "metadata": {},
   "outputs": [],
   "source": []
  },
  {
   "cell_type": "code",
   "execution_count": null,
   "metadata": {},
   "outputs": [],
   "source": []
  }
 ],
 "metadata": {
  "kernelspec": {
   "display_name": "Python 3",
   "language": "python",
   "name": "python3"
  },
  "language_info": {
   "codemirror_mode": {
    "name": "ipython",
    "version": 3
   },
   "file_extension": ".py",
   "mimetype": "text/x-python",
   "name": "python",
   "nbconvert_exporter": "python",
   "pygments_lexer": "ipython3",
   "version": "3.6.4"
  }
 },
 "nbformat": 4,
 "nbformat_minor": 2
}
